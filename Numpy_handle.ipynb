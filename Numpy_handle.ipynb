{
 "cells": [
  {
   "cell_type": "markdown",
   "id": "ffdfd64a-511a-43fb-9665-469cfafc5be0",
   "metadata": {
    "tags": []
   },
   "source": [
    "# Numpy Tutorial"
   ]
  },
  {
   "cell_type": "code",
   "execution_count": 2,
   "id": "d3127ad3-b7d8-466b-94ac-4caa8471c117",
   "metadata": {},
   "outputs": [],
   "source": [
    "import numpy as np"
   ]
  },
  {
   "cell_type": "markdown",
   "id": "66ac2570-6c9c-4f19-b134-ed7d3568ec57",
   "metadata": {
    "jp-MarkdownHeadingCollapsed": true,
    "tags": []
   },
   "source": [
    "## 多次元配列の定義"
   ]
  },
  {
   "cell_type": "code",
   "execution_count": 3,
   "id": "68aeb0b2-dd14-44fd-91c8-393797e313e5",
   "metadata": {},
   "outputs": [
    {
     "data": {
      "text/plain": [
       "array([1, 2, 3])"
      ]
     },
     "execution_count": 3,
     "metadata": {},
     "output_type": "execute_result"
    }
   ],
   "source": [
    "# 一次元のベクトル定義\n",
    "one_dim_arr = np.array([1, 2, 3])\n",
    "one_dim_arr"
   ]
  },
  {
   "cell_type": "code",
   "execution_count": 4,
   "id": "757e8dc6-1ed2-4a58-8b76-3115e1eb4af9",
   "metadata": {},
   "outputs": [
    {
     "data": {
      "text/plain": [
       "(3,)"
      ]
     },
     "execution_count": 4,
     "metadata": {},
     "output_type": "execute_result"
    }
   ],
   "source": [
    "# 多次元配列の形の確認\n",
    "one_dim_arr.shape"
   ]
  },
  {
   "cell_type": "code",
   "execution_count": 5,
   "id": "d46dbe3c-4b21-4714-9807-6eaadb67ff11",
   "metadata": {},
   "outputs": [
    {
     "data": {
      "text/plain": [
       "1"
      ]
     },
     "execution_count": 5,
     "metadata": {},
     "output_type": "execute_result"
    }
   ],
   "source": [
    "# 多次元配列の次元数の確認\n",
    "one_dim_arr.ndim"
   ]
  },
  {
   "cell_type": "code",
   "execution_count": 6,
   "id": "89fc3768-4429-4596-ad22-78c8ab998412",
   "metadata": {},
   "outputs": [
    {
     "data": {
      "text/plain": [
       "array([[1, 2, 3],\n",
       "       [4, 5, 6],\n",
       "       [7, 8, 9]])"
      ]
     },
     "execution_count": 6,
     "metadata": {},
     "output_type": "execute_result"
    }
   ],
   "source": [
    "# 行列の定義\n",
    "mat_arr = np.array(\n",
    "    [[1, 2, 3],\n",
    "     [4, 5, 6],\n",
    "     [7, 8, 9]]\n",
    ")\n",
    "\n",
    "mat_arr"
   ]
  },
  {
   "cell_type": "code",
   "execution_count": 7,
   "id": "605172f5-79ac-418f-b648-c54fb3cbee9e",
   "metadata": {},
   "outputs": [
    {
     "name": "stdout",
     "output_type": "stream",
     "text": [
      "Shape: (3, 3)\n",
      "Rank: 2\n"
     ]
    }
   ],
   "source": [
    "# 形と次元数の確認\n",
    "print('Shape:', mat_arr.shape)\n",
    "print('Rank:', mat_arr.ndim)"
   ]
  },
  {
   "cell_type": "code",
   "execution_count": 8,
   "id": "6b97652a-fef3-410c-8555-6597e53d52ff",
   "metadata": {},
   "outputs": [
    {
     "data": {
      "text/plain": [
       "9"
      ]
     },
     "execution_count": 8,
     "metadata": {},
     "output_type": "execute_result"
    }
   ],
   "source": [
    "# 要素数の確認\n",
    "mat_arr.size"
   ]
  },
  {
   "cell_type": "code",
   "execution_count": 9,
   "id": "559cff88-c48c-4d04-ab6c-e9fdab42a392",
   "metadata": {},
   "outputs": [
    {
     "data": {
      "text/plain": [
       "array([[0., 0., 0.],\n",
       "       [0., 0., 0.],\n",
       "       [0., 0., 0.]])"
      ]
     },
     "execution_count": 9,
     "metadata": {},
     "output_type": "execute_result"
    }
   ],
   "source": [
    "# 形を指定して、要素が全て 0 で埋められた ndarray を作る\n",
    "ele_zero_mat = np.zeros((3, 3))\n",
    "\n",
    "ele_zero_mat"
   ]
  },
  {
   "cell_type": "code",
   "execution_count": 10,
   "id": "48d3e97c-ab84-4415-bd59-0f21d5136fde",
   "metadata": {},
   "outputs": [
    {
     "data": {
      "text/plain": [
       "array([[1., 1., 1.],\n",
       "       [1., 1., 1.]])"
      ]
     },
     "execution_count": 10,
     "metadata": {},
     "output_type": "execute_result"
    }
   ],
   "source": [
    "# 形を指定して、要素が全て 1 で埋められた ndarray を作る\n",
    "ele_one_mat = np.ones((2, 3))\n",
    "\n",
    "ele_one_mat"
   ]
  },
  {
   "cell_type": "code",
   "execution_count": 11,
   "id": "ce52c76e-4613-41e9-ab88-86de9a4d9f6b",
   "metadata": {},
   "outputs": [
    {
     "data": {
      "text/plain": [
       "array([[9, 9],\n",
       "       [9, 9],\n",
       "       [9, 9]])"
      ]
     },
     "execution_count": 11,
     "metadata": {},
     "output_type": "execute_result"
    }
   ],
   "source": [
    "# 形と値を指定して、要素が指定した値で埋められた ndarray を作る\n",
    "ele_nine_mat = np.full((3, 2), 9)\n",
    "\n",
    "ele_nine_mat"
   ]
  },
  {
   "cell_type": "code",
   "execution_count": 12,
   "id": "348aac23-66c6-4941-adf2-fe59ead6eb6b",
   "metadata": {},
   "outputs": [
    {
     "data": {
      "text/plain": [
       "array([[1., 0., 0., 0., 0.],\n",
       "       [0., 1., 0., 0., 0.],\n",
       "       [0., 0., 1., 0., 0.],\n",
       "       [0., 0., 0., 1., 0.],\n",
       "       [0., 0., 0., 0., 1.]])"
      ]
     },
     "execution_count": 12,
     "metadata": {},
     "output_type": "execute_result"
    }
   ],
   "source": [
    "# 指定された大きさの単位行列を表す ndarray を作る\n",
    "identity_mat = np.eye(5)\n",
    "\n",
    "identity_mat"
   ]
  },
  {
   "cell_type": "code",
   "execution_count": 13,
   "id": "96a65eba-57d8-4bbd-a777-9d78f3e1e284",
   "metadata": {},
   "outputs": [
    {
     "data": {
      "text/plain": [
       "array([[0.47036207, 0.69003948, 0.75894345, 0.23622732, 0.95110865],\n",
       "       [0.45141637, 0.93015777, 0.941126  , 0.12088373, 0.17819168],\n",
       "       [0.54932002, 0.66134264, 0.34423835, 0.51196869, 0.97975118],\n",
       "       [0.49665277, 0.17756449, 0.50773115, 0.12115641, 0.19302729]])"
      ]
     },
     "execution_count": 13,
     "metadata": {},
     "output_type": "execute_result"
    }
   ],
   "source": [
    "# 形を指定して、 0 ~ 1 の間の乱数で要素を埋めた ndarray を作る\n",
    "rand_mat = np.random.random((4, 5))\n",
    "\n",
    "rand_mat"
   ]
  },
  {
   "cell_type": "code",
   "execution_count": 14,
   "id": "be8d80ac-9553-49e6-abef-678a4afd61d6",
   "metadata": {},
   "outputs": [
    {
     "data": {
      "text/plain": [
       "array([3, 4, 5, 6, 7, 8, 9])"
      ]
     },
     "execution_count": 14,
     "metadata": {},
     "output_type": "execute_result"
    }
   ],
   "source": [
    "# 3 から始まり 10 になるまで 1 ずつ増加する数列を作る（10 は含まない）\n",
    "arange_arr = np.arange(3, 10, 1)\n",
    "\n",
    "arange_arr"
   ]
  },
  {
   "cell_type": "markdown",
   "id": "e2df2c3a-30bc-4a0c-988e-859b4a844196",
   "metadata": {
    "jp-MarkdownHeadingCollapsed": true,
    "tags": []
   },
   "source": [
    "## 多次元配列の要素の選択"
   ]
  },
  {
   "cell_type": "code",
   "execution_count": 15,
   "id": "6bb6b72e-3d8e-46ca-a97d-4ffc554cbad5",
   "metadata": {},
   "outputs": [
    {
     "data": {
      "text/plain": [
       "0.6900394846500031"
      ]
     },
     "execution_count": 15,
     "metadata": {},
     "output_type": "execute_result"
    }
   ],
   "source": [
    "# rand_matの1行2列目の抽出\n",
    "val = rand_mat[0, 1]\n",
    "\n",
    "val"
   ]
  },
  {
   "cell_type": "code",
   "execution_count": 16,
   "id": "6abd1b48-21c1-4879-8143-52178628589f",
   "metadata": {},
   "outputs": [
    {
     "data": {
      "text/plain": [
       "array([[0.93015777, 0.941126  , 0.12088373],\n",
       "       [0.66134264, 0.34423835, 0.51196869]])"
      ]
     },
     "execution_count": 16,
     "metadata": {},
     "output_type": "execute_result"
    }
   ],
   "source": [
    "# スライスを用いて4 x 5 行列rand_matの真ん中の 2 x 3 = 6 個の値を取り出す\n",
    "center = rand_mat[1:3, 1:4]\n",
    "\n",
    "center"
   ]
  },
  {
   "cell_type": "code",
   "execution_count": 17,
   "id": "0aca317c-461a-4c3d-87e6-b47ce8780294",
   "metadata": {},
   "outputs": [
    {
     "name": "stdout",
     "output_type": "stream",
     "text": [
      "Shape of rand_mat: (4, 5)\n",
      "Shape of center: (2, 3)\n"
     ]
    }
   ],
   "source": [
    "# rand_matとcenterのshapeの比較\n",
    "print('Shape of rand_mat:', rand_mat.shape)\n",
    "print('Shape of center:', center.shape)"
   ]
  },
  {
   "cell_type": "code",
   "execution_count": 18,
   "id": "68298146-97ca-4761-b84c-158dfc182c91",
   "metadata": {},
   "outputs": [
    {
     "data": {
      "text/plain": [
       "array([[0.47036207, 0.69003948, 0.75894345, 0.23622732, 0.95110865],\n",
       "       [0.45141637, 0.        , 0.        , 0.        , 0.17819168],\n",
       "       [0.54932002, 0.        , 0.        , 0.        , 0.97975118],\n",
       "       [0.49665277, 0.17756449, 0.50773115, 0.12115641, 0.19302729]])"
      ]
     },
     "execution_count": 18,
     "metadata": {},
     "output_type": "execute_result"
    }
   ],
   "source": [
    "# 先程の真ん中の 6 個の値を 0 にする\n",
    "rand_mat[1:3, 1:4] = 0\n",
    "\n",
    "rand_mat"
   ]
  },
  {
   "cell_type": "code",
   "execution_count": 19,
   "id": "2c402dfd-916e-46f6-bfe3-ac180f8f1a96",
   "metadata": {},
   "outputs": [
    {
     "data": {
      "text/plain": [
       "array([[1, 2, 3],\n",
       "       [4, 5, 6],\n",
       "       [7, 8, 9]])"
      ]
     },
     "execution_count": 19,
     "metadata": {},
     "output_type": "execute_result"
    }
   ],
   "source": [
    "arr = np.array(\n",
    "    [[1, 2, 3],\n",
    "     [4, 5, 6],\n",
    "     [7, 8, 9]]\n",
    ")\n",
    "\n",
    "arr"
   ]
  },
  {
   "cell_type": "code",
   "execution_count": 20,
   "id": "e5d0bd6d-1e7d-4984-964c-0a7c68869414",
   "metadata": {},
   "outputs": [
    {
     "data": {
      "text/plain": [
       "array([2, 8, 4])"
      ]
     },
     "execution_count": 20,
     "metadata": {},
     "output_type": "execute_result"
    }
   ],
   "source": [
    "# 要素を選択し、新しい ndarray を作る\n",
    "np.array([arr[0, 1], arr[2, 1], arr[1, 0]])"
   ]
  },
  {
   "cell_type": "code",
   "execution_count": 21,
   "id": "19a91e0d-4569-428f-84b7-e17693a827f1",
   "metadata": {},
   "outputs": [
    {
     "data": {
      "text/plain": [
       "array([2, 8, 4])"
      ]
     },
     "execution_count": 21,
     "metadata": {},
     "output_type": "execute_result"
    }
   ],
   "source": [
    "# [[選択したい行],[選択したい列]]でndarrayを作る\n",
    "arr[[0, 2, 1], [1, 1, 0]]"
   ]
  },
  {
   "cell_type": "markdown",
   "id": "7e73df35-43f7-41ed-b695-daeb681b7a9a",
   "metadata": {
    "jp-MarkdownHeadingCollapsed": true,
    "tags": []
   },
   "source": [
    "## ndarrayのデータ型"
   ]
  },
  {
   "cell_type": "code",
   "execution_count": 22,
   "id": "35dc5d0a-2c55-4380-9f71-8b51328add09",
   "metadata": {},
   "outputs": [
    {
     "data": {
      "text/plain": [
       "dtype('int64')"
      ]
     },
     "execution_count": 22,
     "metadata": {},
     "output_type": "execute_result"
    }
   ],
   "source": [
    "# 整数（Python の int 型）の要素をもつリストを与えた場合\n",
    "arr_int = np.array([1, 2, 3])\n",
    "\n",
    "arr_int.dtype"
   ]
  },
  {
   "cell_type": "code",
   "execution_count": 23,
   "id": "ded0575f-deca-46b3-a8bc-5fa4af297a63",
   "metadata": {},
   "outputs": [
    {
     "data": {
      "text/plain": [
       "dtype('float64')"
      ]
     },
     "execution_count": 23,
     "metadata": {},
     "output_type": "execute_result"
    }
   ],
   "source": [
    "# 浮動小数点数（Python の float 型）の要素をもつリストを与えた場合\n",
    "arr_float = np.array([1., 2., 3.])\n",
    "\n",
    "arr_float.dtype"
   ]
  },
  {
   "cell_type": "code",
   "execution_count": 24,
   "id": "a2b5fc5c-4803-4bd7-af68-75f2521b7803",
   "metadata": {},
   "outputs": [
    {
     "data": {
      "text/plain": [
       "dtype('float32')"
      ]
     },
     "execution_count": 24,
     "metadata": {},
     "output_type": "execute_result"
    }
   ],
   "source": [
    "# float32に変換したい場合\n",
    "arr_to_float = np.array([1, 2, 3], dtype=np.float32)\n",
    "\n",
    "arr_to_float.dtype"
   ]
  },
  {
   "cell_type": "code",
   "execution_count": 25,
   "id": "d4e225c3-c253-4d58-951a-b527654411a2",
   "metadata": {},
   "outputs": [
    {
     "data": {
      "text/plain": [
       "dtype('float32')"
      ]
     },
     "execution_count": 25,
     "metadata": {},
     "output_type": "execute_result"
    }
   ],
   "source": [
    "# 別の例（float32への変換）\n",
    "arr_to_float = np.array([1, 2, 3], dtype='float32')\n",
    "\n",
    "arr_to_float.dtype"
   ]
  },
  {
   "cell_type": "code",
   "execution_count": 26,
   "id": "db0ed90e-775a-40e2-acda-444f40acd11d",
   "metadata": {},
   "outputs": [
    {
     "data": {
      "text/plain": [
       "dtype('float32')"
      ]
     },
     "execution_count": 26,
     "metadata": {},
     "output_type": "execute_result"
    }
   ],
   "source": [
    "# より簡潔にする場合（float32への変換）\n",
    "arr_to_float = np.array([1, 2, 3], dtype='f')\n",
    "\n",
    "arr_to_float.dtype"
   ]
  },
  {
   "cell_type": "code",
   "execution_count": 27,
   "id": "537a9808-4467-4add-ac90-4242b3e4c629",
   "metadata": {},
   "outputs": [
    {
     "data": {
      "text/plain": [
       "dtype('float64')"
      ]
     },
     "execution_count": 27,
     "metadata": {},
     "output_type": "execute_result"
    }
   ],
   "source": [
    "# 既に変換されたndarrayのデータ型を変換\n",
    "arr_to_float = arr_to_float.astype(np.float64)\n",
    "\n",
    "arr_to_float.dtype"
   ]
  },
  {
   "cell_type": "markdown",
   "id": "73d26b9f-f0bb-4ef9-b6de-0e95029d2303",
   "metadata": {
    "jp-MarkdownHeadingCollapsed": true,
    "tags": []
   },
   "source": [
    "## 多次元配列の計算"
   ]
  },
  {
   "cell_type": "code",
   "execution_count": 28,
   "id": "8ff13954-3fe5-42aa-a752-39ec9d228cb3",
   "metadata": {},
   "outputs": [],
   "source": [
    "# 同じ形 (3 x 3) の行列を 2 つ定義する\n",
    "a = np.array([\n",
    "    [0, 1, 2],\n",
    "    [3, 4, 5],\n",
    "    [6, 7, 8]\n",
    "])\n",
    "\n",
    "b = np.array([\n",
    "    [1, 2, 3],\n",
    "    [4, 5, 6],\n",
    "    [7, 8, 9]\n",
    "])"
   ]
  },
  {
   "cell_type": "code",
   "execution_count": 29,
   "id": "52700bbc-f565-4268-af0c-f64561213c5a",
   "metadata": {},
   "outputs": [
    {
     "data": {
      "text/plain": [
       "array([[1.        , 1.41421356, 1.73205081],\n",
       "       [2.        , 2.23606798, 2.44948974],\n",
       "       [2.64575131, 2.82842712, 3.        ]])"
      ]
     },
     "execution_count": 29,
     "metadata": {},
     "output_type": "execute_result"
    }
   ],
   "source": [
    "# 要素ごとに平方根を計算する\n",
    "c = np.sqrt(b)\n",
    "\n",
    "c"
   ]
  },
  {
   "cell_type": "code",
   "execution_count": 30,
   "id": "1627b46d-1563-4df8-8c35-88cafcb0dc09",
   "metadata": {},
   "outputs": [
    {
     "data": {
      "text/plain": [
       "array([[ 1,  4,  9],\n",
       "       [16, 25, 36],\n",
       "       [49, 64, 81]])"
      ]
     },
     "execution_count": 30,
     "metadata": {},
     "output_type": "execute_result"
    }
   ],
   "source": [
    "# 要素ごとに値を n 乗する\n",
    "n = 2\n",
    "c = np.power(b, n)\n",
    "\n",
    "c"
   ]
  },
  {
   "cell_type": "code",
   "execution_count": 31,
   "id": "9de4f689-8129-41f6-ba47-1a7e35ac9783",
   "metadata": {},
   "outputs": [
    {
     "data": {
      "text/plain": [
       "array([[ 1,  3,  5],\n",
       "       [ 4,  6,  8],\n",
       "       [ 7,  9, 11]])"
      ]
     },
     "execution_count": 31,
     "metadata": {},
     "output_type": "execute_result"
    }
   ],
   "source": [
    "# array同士の足し算\n",
    "a = np.array([\n",
    "    [0, 1, 2],\n",
    "    [3, 4, 5],\n",
    "    [6, 7, 8]\n",
    "])\n",
    "\n",
    "b = np.array([1, 2, 3])\n",
    "\n",
    "c = a + b\n",
    "\n",
    "c"
   ]
  },
  {
   "cell_type": "markdown",
   "id": "879d0dd3-66fd-4860-8076-00a66faf7a05",
   "metadata": {
    "jp-MarkdownHeadingCollapsed": true,
    "tags": []
   },
   "source": [
    "## ブロードキャスト\n",
    "Numpyが暗黙に配列の形を同じ形に揃える操作"
   ]
  },
  {
   "cell_type": "code",
   "execution_count": 32,
   "id": "aa4817b6-5870-4d42-be8c-8b09127ea612",
   "metadata": {},
   "outputs": [
    {
     "data": {
      "text/plain": [
       "array([1, 2, 3])"
      ]
     },
     "execution_count": 32,
     "metadata": {},
     "output_type": "execute_result"
    }
   ],
   "source": [
    "a = np.array([1, 2, 3])\n",
    "\n",
    "a"
   ]
  },
  {
   "cell_type": "code",
   "execution_count": 33,
   "id": "a310428a-fab4-46e6-b946-e873f423ef5c",
   "metadata": {},
   "outputs": [
    {
     "data": {
      "text/plain": [
       "array([2, 4, 6])"
      ]
     },
     "execution_count": 33,
     "metadata": {},
     "output_type": "execute_result"
    }
   ],
   "source": [
    "b = np.array([2, 2, 2])\n",
    "\n",
    "c = a * b\n",
    "\n",
    "c"
   ]
  },
  {
   "cell_type": "code",
   "execution_count": 34,
   "id": "69b61399-4765-4b16-8fb8-d51fd68188af",
   "metadata": {},
   "outputs": [
    {
     "data": {
      "text/plain": [
       "array([2, 4, 6])"
      ]
     },
     "execution_count": 34,
     "metadata": {},
     "output_type": "execute_result"
    }
   ],
   "source": [
    "# ブロードキャストが起こっている例\n",
    "c = a * 2\n",
    "\n",
    "c"
   ]
  },
  {
   "cell_type": "code",
   "execution_count": 35,
   "id": "0fffd28d-093c-4bae-ad87-5b1b5503cd5d",
   "metadata": {},
   "outputs": [
    {
     "ename": "ValueError",
     "evalue": "operands could not be broadcast together with shapes (3,) (2,) ",
     "output_type": "error",
     "traceback": [
      "\u001b[0;31m---------------------------------------------------------------------------\u001b[0m",
      "\u001b[0;31mValueError\u001b[0m                                Traceback (most recent call last)",
      "\u001b[0;32m/var/folders/rx/f7lmq9xn7n32pwf8h8zy4d0m0000gp/T/ipykernel_8580/3654880668.py\u001b[0m in \u001b[0;36m<module>\u001b[0;34m\u001b[0m\n\u001b[1;32m      2\u001b[0m \u001b[0md\u001b[0m \u001b[0;34m=\u001b[0m \u001b[0mnp\u001b[0m\u001b[0;34m.\u001b[0m\u001b[0marray\u001b[0m\u001b[0;34m(\u001b[0m\u001b[0;34m[\u001b[0m\u001b[0;36m2\u001b[0m\u001b[0;34m,\u001b[0m \u001b[0;36m2\u001b[0m\u001b[0;34m]\u001b[0m\u001b[0;34m)\u001b[0m\u001b[0;34m\u001b[0m\u001b[0;34m\u001b[0m\u001b[0m\n\u001b[1;32m      3\u001b[0m \u001b[0;34m\u001b[0m\u001b[0m\n\u001b[0;32m----> 4\u001b[0;31m \u001b[0mc\u001b[0m \u001b[0;34m=\u001b[0m \u001b[0ma\u001b[0m \u001b[0;34m*\u001b[0m \u001b[0md\u001b[0m\u001b[0;34m\u001b[0m\u001b[0;34m\u001b[0m\u001b[0m\n\u001b[0m\u001b[1;32m      5\u001b[0m \u001b[0;34m\u001b[0m\u001b[0m\n\u001b[1;32m      6\u001b[0m \u001b[0mc\u001b[0m\u001b[0;34m\u001b[0m\u001b[0;34m\u001b[0m\u001b[0m\n",
      "\u001b[0;31mValueError\u001b[0m: operands could not be broadcast together with shapes (3,) (2,) "
     ]
    }
   ],
   "source": [
    "# ブロードキャストをすることができない例\n",
    "d = np.array([2, 2])\n",
    "\n",
    "c = a * d\n",
    "\n",
    "c"
   ]
  },
  {
   "cell_type": "markdown",
   "id": "ab98af42-5739-4268-ac29-c8553eb8452b",
   "metadata": {},
   "source": [
    "次元内の要素数が異なるため、ブロードキャストすることができない（要素数が1の場合は可能）"
   ]
  },
  {
   "cell_type": "code",
   "execution_count": 54,
   "id": "b8050cce-de3f-4099-aa01-aa604a05f619",
   "metadata": {},
   "outputs": [
    {
     "name": "stdout",
     "output_type": "stream",
     "text": [
      "a:\n",
      " [[[9 2 7]]\n",
      "\n",
      " [[4 0 3]]]\n",
      "\n",
      "a.shape: (2, 1, 3)\n",
      "\n",
      "a.rank: 3\n",
      "\n",
      "b:\n",
      " [[5]\n",
      " [9]\n",
      " [4]]\n",
      "\n",
      "b.shape: (3, 1)\n",
      "\n",
      "b.rank: 2\n",
      "\n",
      "a + b:\n",
      " [[[14  7 12]\n",
      "  [18 11 16]\n",
      "  [13  6 11]]\n",
      "\n",
      " [[ 9  5  8]\n",
      "  [13  9 12]\n",
      "  [ 8  4  7]]]\n",
      "\n",
      "(a + b).shape: (2, 3, 3)\n",
      "\n",
      "(a + b).rank: 3\n"
     ]
    }
   ],
   "source": [
    "# 0 ~ 9 の範囲の値をランダムに用いて埋められた (2, 1, 3) と (3, 1) という大きさの配列を作る\n",
    "a = np.random.randint(0, 10, (2, 1, 3))\n",
    "b = np.random.randint(0, 10, (3, 1))\n",
    "\n",
    "print('a:\\n', a)\n",
    "print('\\na.shape:', a.shape)\n",
    "print('\\na.rank:', a.ndim)\n",
    "print('\\nb:\\n', b)\n",
    "print('\\nb.shape:', b.shape)\n",
    "print('\\nb.rank:', b.ndim)\n",
    "\n",
    "# 加算\n",
    "c = a + b\n",
    "\n",
    "print('\\na + b:\\n', c)\n",
    "print('\\n(a + b).shape:', c.shape)\n",
    "print('\\n(a + b).rank:', c.ndim)"
   ]
  },
  {
   "cell_type": "markdown",
   "id": "749bbbf4-0583-4723-bead-3e791bf605ae",
   "metadata": {},
   "source": [
    "まず、bが(1, 3, 1)として扱われ、その後、bが(3, 1, 1)にブロードキャストされる"
   ]
  },
  {
   "cell_type": "code",
   "execution_count": 55,
   "id": "27701798-61bd-4ca3-b82c-b1232f5fe5f2",
   "metadata": {},
   "outputs": [
    {
     "name": "stdout",
     "output_type": "stream",
     "text": [
      "Original shape: (3, 1)\n",
      "Added new axis to the top: (1, 3, 1)\n",
      "Added new axis to the middle: (3, 1, 1)\n"
     ]
    }
   ],
   "source": [
    "print('Original shape:', b.shape)\n",
    "\n",
    "# bが(1, 3, 1)に変換\n",
    "b_expanded = b[np.newaxis, :, :]\n",
    "\n",
    "print('Added new axis to the top:', b_expanded.shape)\n",
    "\n",
    "# bが(3, 1, 1)にブロードキャスト\n",
    "b_expanded2 = b[:, np.newaxis, :]\n",
    "\n",
    "print('Added new axis to the middle:', b_expanded2.shape)"
   ]
  },
  {
   "cell_type": "code",
   "execution_count": 56,
   "id": "c0107486-25fa-46de-bfc1-8200d6083d28",
   "metadata": {},
   "outputs": [
    {
     "data": {
      "text/plain": [
       "array([[5],\n",
       "       [9],\n",
       "       [4]])"
      ]
     },
     "execution_count": 56,
     "metadata": {},
     "output_type": "execute_result"
    }
   ],
   "source": [
    "b"
   ]
  },
  {
   "cell_type": "code",
   "execution_count": 59,
   "id": "30c2a59a-ef3a-4c8d-94c9-a4f27de4f122",
   "metadata": {},
   "outputs": [
    {
     "data": {
      "text/plain": [
       "array([[[5],\n",
       "        [9],\n",
       "        [4]]])"
      ]
     },
     "execution_count": 59,
     "metadata": {},
     "output_type": "execute_result"
    }
   ],
   "source": [
    "b_expanded"
   ]
  },
  {
   "cell_type": "code",
   "execution_count": 60,
   "id": "6bcf736c-eb9f-4584-b604-48e14207b9fa",
   "metadata": {},
   "outputs": [
    {
     "data": {
      "text/plain": [
       "array([[[5]],\n",
       "\n",
       "       [[9]],\n",
       "\n",
       "       [[4]]])"
      ]
     },
     "execution_count": 60,
     "metadata": {},
     "output_type": "execute_result"
    }
   ],
   "source": [
    "b_expanded2"
   ]
  },
  {
   "cell_type": "markdown",
   "id": "6f91ab7e-326c-458d-bf51-c19d800a8604",
   "metadata": {},
   "source": [
    "### 実行速度"
   ]
  },
  {
   "cell_type": "code",
   "execution_count": null,
   "id": "1d521681-ca51-4afe-b8de-6e236d5322d9",
   "metadata": {},
   "outputs": [],
   "source": [
    "a = np.array([\n",
    "    [0, 1, 2, 1, 0],\n",
    "    [3, 4, 5, 4, 3],\n",
    "    [6, 7, 8, 7, 6],\n",
    "    [3, 4, 5, 4, 4],\n",
    "    [0, 1, 2, 1, 0]\n",
    "])\n",
    "\n",
    "b = np.array([1, 2, 3, 4, 5])\n",
    "\n",
    "# 結果を格納する配列を先に作る\n",
    "c = np.empty((5, 5))"
   ]
  },
  {
   "cell_type": "markdown",
   "id": "fe67fb7d-9f68-4524-87cc-5039d4d776db",
   "metadata": {},
   "source": [
    "pythonのforループの場合"
   ]
  },
  {
   "cell_type": "code",
   "execution_count": 65,
   "id": "71f3185c-d61e-451c-ad83-91fdd0a9b1e5",
   "metadata": {},
   "outputs": [
    {
     "name": "stdout",
     "output_type": "stream",
     "text": [
      "7.87 µs ± 169 ns per loop (mean ± std. dev. of 7 runs, 100000 loops each)\n"
     ]
    }
   ],
   "source": [
    "%%timeit\n",
    "for i in range(a.shape[0]):\n",
    "    c[i, :] = a[i, :] + b"
   ]
  },
  {
   "cell_type": "code",
   "execution_count": 66,
   "id": "52a456bc-a469-4c26-abbd-bdddc28c9ff0",
   "metadata": {},
   "outputs": [
    {
     "data": {
      "text/plain": [
       "array([[ 1.,  3.,  5.,  5.,  5.],\n",
       "       [ 4.,  6.,  8.,  8.,  8.],\n",
       "       [ 7.,  9., 11., 11., 11.],\n",
       "       [ 4.,  6.,  8.,  8.,  9.],\n",
       "       [ 1.,  3.,  5.,  5.,  5.]])"
      ]
     },
     "execution_count": 66,
     "metadata": {},
     "output_type": "execute_result"
    }
   ],
   "source": [
    "c"
   ]
  },
  {
   "cell_type": "markdown",
   "id": "c50c6c91-2b81-41f7-823a-5edea6b06ae3",
   "metadata": {},
   "source": [
    "NumPy のブロードキャストの場合"
   ]
  },
  {
   "cell_type": "code",
   "execution_count": 67,
   "id": "f0b144bd-c3f3-470e-adc1-db08ea0b3cc8",
   "metadata": {},
   "outputs": [
    {
     "name": "stdout",
     "output_type": "stream",
     "text": [
      "1.53 µs ± 12.5 ns per loop (mean ± std. dev. of 7 runs, 1000000 loops each)\n"
     ]
    }
   ],
   "source": [
    "%%timeit\n",
    "c = a + b"
   ]
  },
  {
   "cell_type": "code",
   "execution_count": 68,
   "id": "3807fe44-8d5a-41c9-9cb4-ccbb562a23a3",
   "metadata": {},
   "outputs": [
    {
     "data": {
      "text/plain": [
       "array([[ 1.,  3.,  5.,  5.,  5.],\n",
       "       [ 4.,  6.,  8.,  8.,  8.],\n",
       "       [ 7.,  9., 11., 11., 11.],\n",
       "       [ 4.,  6.,  8.,  8.,  9.],\n",
       "       [ 1.,  3.,  5.,  5.,  5.]])"
      ]
     },
     "execution_count": 68,
     "metadata": {},
     "output_type": "execute_result"
    }
   ],
   "source": [
    "c"
   ]
  },
  {
   "cell_type": "markdown",
   "id": "997ae684-be50-49ef-8af1-f160869e1459",
   "metadata": {
    "jp-MarkdownHeadingCollapsed": true,
    "tags": []
   },
   "source": [
    "## 行列積"
   ]
  },
  {
   "cell_type": "code",
   "execution_count": 69,
   "id": "25ee4d0d-9603-41c9-88c6-0b1d548d4fcf",
   "metadata": {},
   "outputs": [],
   "source": [
    "# 行列 A の定義\n",
    "A = np.array([\n",
    "    [0, 1, 2],\n",
    "    [3, 4, 5],\n",
    "    [6, 7, 8]\n",
    "])\n",
    "\n",
    "# 行列 B の定義\n",
    "B = np.array([\n",
    "    [1, 2, 3],\n",
    "    [4, 5, 6],\n",
    "    [7, 8, 9]\n",
    "])"
   ]
  },
  {
   "cell_type": "code",
   "execution_count": 71,
   "id": "9963a7e5-53f0-426a-9659-0c5eef135df8",
   "metadata": {},
   "outputs": [
    {
     "data": {
      "text/plain": [
       "array([[ 18,  21,  24],\n",
       "       [ 54,  66,  78],\n",
       "       [ 90, 111, 132]])"
      ]
     },
     "execution_count": 71,
     "metadata": {},
     "output_type": "execute_result"
    }
   ],
   "source": [
    "# 行列積の計算(1)\n",
    "C = np.dot(A, B)\n",
    "\n",
    "C"
   ]
  },
  {
   "cell_type": "code",
   "execution_count": 72,
   "id": "7ada73e5-a1e8-4f72-8425-fd29ce5a76eb",
   "metadata": {},
   "outputs": [
    {
     "data": {
      "text/plain": [
       "array([[ 18,  21,  24],\n",
       "       [ 54,  66,  78],\n",
       "       [ 90, 111, 132]])"
      ]
     },
     "execution_count": 72,
     "metadata": {},
     "output_type": "execute_result"
    }
   ],
   "source": [
    "# 行列積の計算(2)\n",
    "C = A.dot(B)\n",
    "\n",
    "C"
   ]
  },
  {
   "cell_type": "markdown",
   "id": "e54658ad-814c-4e22-b7f3-33fd3de46803",
   "metadata": {
    "jp-MarkdownHeadingCollapsed": true,
    "tags": []
   },
   "source": [
    "## NumPy を用いた重回帰分析"
   ]
  },
  {
   "cell_type": "code",
   "execution_count": 76,
   "id": "fcc00a05-8f55-4528-8ad9-0148a69bbf64",
   "metadata": {},
   "outputs": [
    {
     "data": {
      "text/plain": [
       "array([[2, 3],\n",
       "       [2, 5],\n",
       "       [3, 4],\n",
       "       [5, 9]])"
      ]
     },
     "execution_count": 76,
     "metadata": {},
     "output_type": "execute_result"
    }
   ],
   "source": [
    "# Xの定義\n",
    "X = np.array([\n",
    "    [2, 3],\n",
    "    [2, 5],\n",
    "    [3, 4],\n",
    "    [5, 9],\n",
    "])\n",
    "\n",
    "X"
   ]
  },
  {
   "cell_type": "code",
   "execution_count": 77,
   "id": "181b4d1e-6f51-4dc8-893f-75d14f31c17e",
   "metadata": {},
   "outputs": [
    {
     "data": {
      "text/plain": [
       "array([[1., 2., 3.],\n",
       "       [1., 2., 5.],\n",
       "       [1., 3., 4.],\n",
       "       [1., 5., 9.]])"
      ]
     },
     "execution_count": 77,
     "metadata": {},
     "output_type": "execute_result"
    }
   ],
   "source": [
    "# データ数（X.shape[0]) と同じ数だけ 1 が並んだ配列\n",
    "ones = np.ones((X.shape[0], 1))\n",
    "\n",
    "# concatenate を使い、1 次元目に 1 を付け加える\n",
    "X = np.concatenate((ones, X), axis=1)\n",
    "\n",
    "# 先頭に 1 が付け加わったデザイン行列\n",
    "X"
   ]
  },
  {
   "cell_type": "code",
   "execution_count": 80,
   "id": "839c6f55-704d-4a94-bea5-a221c5309661",
   "metadata": {},
   "outputs": [
    {
     "data": {
      "text/plain": [
       "array([1, 5, 6, 8])"
      ]
     },
     "execution_count": 80,
     "metadata": {},
     "output_type": "execute_result"
    }
   ],
   "source": [
    "# t の定義(目標値)\n",
    "t = np.array([1, 5, 6, 8])\n",
    "\n",
    "t"
   ]
  },
  {
   "cell_type": "markdown",
   "id": "f162b595-ad2f-4196-b285-27bbd5e9577e",
   "metadata": {},
   "source": [
    "正規方程式の解  \n",
    "𝐰=(𝐗T𝐗)−1𝐗T𝐭"
   ]
  },
  {
   "cell_type": "code",
   "execution_count": 81,
   "id": "0dd8c8ee-54c4-43ad-96e6-fbb4c963f05d",
   "metadata": {},
   "outputs": [
    {
     "data": {
      "text/plain": [
       "array([[  4.,  12.,  21.],\n",
       "       [ 12.,  42.,  73.],\n",
       "       [ 21.,  73., 131.]])"
      ]
     },
     "execution_count": 81,
     "metadata": {},
     "output_type": "execute_result"
    }
   ],
   "source": [
    "# Step 1. XTXの計算\n",
    "xx = np.dot(X.T, X)\n",
    "\n",
    "xx"
   ]
  },
  {
   "cell_type": "code",
   "execution_count": 82,
   "id": "8741cb44-0e90-4ac4-bf75-16cd6e90f383",
   "metadata": {},
   "outputs": [
    {
     "data": {
      "text/plain": [
       "array([[ 1.76530612, -0.39795918, -0.06122449],\n",
       "       [-0.39795918,  0.84693878, -0.40816327],\n",
       "       [-0.06122449, -0.40816327,  0.24489796]])"
      ]
     },
     "execution_count": 82,
     "metadata": {},
     "output_type": "execute_result"
    }
   ],
   "source": [
    "# Step 2. 逆行列の計算(XTX^-1)\n",
    "xx_inv = np.linalg.inv(xx)\n",
    "\n",
    "xx_inv"
   ]
  },
  {
   "cell_type": "code",
   "execution_count": 83,
   "id": "0833f731-4631-4caf-aeec-ce8cccd2a2d7",
   "metadata": {},
   "outputs": [
    {
     "data": {
      "text/plain": [
       "array([ 20.,  70., 124.])"
      ]
     },
     "execution_count": 83,
     "metadata": {},
     "output_type": "execute_result"
    }
   ],
   "source": [
    "# Step 3. XTtの計算\n",
    "xt = np.dot(X.T, t)\n",
    "\n",
    "xt"
   ]
  },
  {
   "cell_type": "code",
   "execution_count": 84,
   "id": "a282de36-10ff-401b-964a-7a9ec40dcbbf",
   "metadata": {},
   "outputs": [
    {
     "data": {
      "text/plain": [
       "array([-0.14285714,  0.71428571,  0.57142857])"
      ]
     },
     "execution_count": 84,
     "metadata": {},
     "output_type": "execute_result"
    }
   ],
   "source": [
    "# Step 4. XTX^-1とXTtの積\n",
    "w = np.dot(xx_inv, xt)\n",
    "\n",
    "w"
   ]
  },
  {
   "cell_type": "code",
   "execution_count": 85,
   "id": "fca82d0b-2ff5-4e65-bf5f-47685e7744db",
   "metadata": {},
   "outputs": [
    {
     "data": {
      "text/plain": [
       "array([-0.14285714,  0.71428571,  0.57142857])"
      ]
     },
     "execution_count": 85,
     "metadata": {},
     "output_type": "execute_result"
    }
   ],
   "source": [
    "# 逆行列を計算し、ベクトルにかけるのを一度に行う\n",
    "w_ = np.linalg.solve(X.T.dot(X), X.T.dot(t))\n",
    "\n",
    "w_"
   ]
  }
 ],
 "metadata": {
  "kernelspec": {
   "display_name": "Python 3 (ipykernel)",
   "language": "python",
   "name": "python3"
  },
  "language_info": {
   "codemirror_mode": {
    "name": "ipython",
    "version": 3
   },
   "file_extension": ".py",
   "mimetype": "text/x-python",
   "name": "python",
   "nbconvert_exporter": "python",
   "pygments_lexer": "ipython3",
   "version": "3.9.7"
  }
 },
 "nbformat": 4,
 "nbformat_minor": 5
}
